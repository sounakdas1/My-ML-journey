{
 "cells": [
  {
   "cell_type": "markdown",
   "metadata": {},
   "source": [
    "## Min-max Scaling , Standardization and Robust scaling "
   ]
  },
  {
   "cell_type": "code",
   "execution_count": 3,
   "metadata": {},
   "outputs": [
    {
     "name": "stdout",
     "output_type": "stream",
     "text": [
      "Original Data:\n",
      "   Age  Income\n",
      "0   25   40000\n",
      "1   30   50000\n",
      "2   35   60000\n",
      "3   40   70000\n",
      "4   45   80000\n",
      "\n",
      "Min-Max Scaled Data:\n",
      "[[0.   0.  ]\n",
      " [0.25 0.25]\n",
      " [0.5  0.5 ]\n",
      " [0.75 0.75]\n",
      " [1.   1.  ]]\n",
      "\n",
      "Standardized Data:\n",
      "[[-1.41421356 -1.41421356]\n",
      " [-0.70710678 -0.70710678]\n",
      " [ 0.          0.        ]\n",
      " [ 0.70710678  0.70710678]\n",
      " [ 1.41421356  1.41421356]]\n",
      "\n",
      "Robust Scaled Data:\n",
      "[[-1.  -1. ]\n",
      " [-0.5 -0.5]\n",
      " [ 0.   0. ]\n",
      " [ 0.5  0.5]\n",
      " [ 1.   1. ]]\n"
     ]
    }
   ],
   "source": [
    "from sklearn.preprocessing import MinMaxScaler, StandardScaler, RobustScaler\n",
    "import pandas as pd\n",
    "\n",
    "data = {'Age': [25, 30, 35, 40, 45], 'Income': [40000, 50000, 60000, 70000, 80000]}\n",
    "df = pd.DataFrame(data)\n",
    " \n",
    "min_max_scaler = MinMaxScaler()\n",
    "min_max_data = min_max_scaler.fit_transform(df)\n",
    "\n",
    "standard = StandardScaler()\n",
    "standard_data = standard.fit_transform(df)\n",
    "\n",
    "robust = RobustScaler()\n",
    "robust_data = robust.fit_transform(df)\n",
    "\n",
    "print(\"Original Data:\")\n",
    "print(df)\n",
    "print(\"\\nMin-Max Scaled Data:\")\n",
    "print(min_max_data)\n",
    "print(\"\\nStandardized Data:\")\n",
    "print(standard_data)\n",
    "print(\"\\nRobust Scaled Data:\")\n",
    "print(robust_data)"
   ]
  },
  {
   "cell_type": "code",
   "execution_count": null,
   "metadata": {},
   "outputs": [],
   "source": []
  }
 ],
 "metadata": {
  "kernelspec": {
   "display_name": "Python 3",
   "language": "python",
   "name": "python3"
  },
  "language_info": {
   "codemirror_mode": {
    "name": "ipython",
    "version": 3
   },
   "file_extension": ".py",
   "mimetype": "text/x-python",
   "name": "python",
   "nbconvert_exporter": "python",
   "pygments_lexer": "ipython3",
   "version": "3.12.4"
  }
 },
 "nbformat": 4,
 "nbformat_minor": 2
}
