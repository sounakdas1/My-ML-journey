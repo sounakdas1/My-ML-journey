{
 "cells": [
  {
   "cell_type": "code",
   "execution_count": 4,
   "metadata": {},
   "outputs": [
    {
     "name": "stdout",
     "output_type": "stream",
     "text": [
      "mapping : {'Blue': 0, 'Green': 1, 'Red': 2}\n",
      "[2 0 1 0 2]\n"
     ]
    }
   ],
   "source": [
    "Color = ['Red', 'Blue', 'Green', 'Blue', 'Red']\n",
    "from sklearn.preprocessing import LabelEncoder\n",
    "\n",
    "encoding = LabelEncoder()\n",
    "encoded_labels = encoding.fit_transform(Color)\n",
    "\n",
    "\n",
    "print(\"mapping :\", dict(zip(encoding.classes_, range(len(encoding.classes_)))))\n",
    "print(encoded_labels)"
   ]
  },
  {
   "cell_type": "markdown",
   "metadata": {},
   "source": [
    "## Using Pandas"
   ]
  },
  {
   "cell_type": "code",
   "execution_count": 7,
   "metadata": {},
   "outputs": [
    {
     "name": "stdout",
     "output_type": "stream",
     "text": [
      "   Color  encoded\n",
      "0    Red        0\n",
      "1   Blue        1\n",
      "2  Green        2\n",
      "3   Blue        1\n",
      "4    Red        0\n",
      "Index(['Red', 'Blue', 'Green'], dtype='object')\n"
     ]
    }
   ],
   "source": [
    "import pandas as pd\n",
    "\n",
    "data = {'Color': ['Red', 'Blue', 'Green', 'Blue', 'Red']}\n",
    "df = pd.DataFrame(data)\n",
    "\n",
    "df['encoded'],mapping = pd.factorize(df['Color'])\n",
    "print(df)\n",
    "print(mapping)"
   ]
  },
  {
   "cell_type": "code",
   "execution_count": null,
   "metadata": {},
   "outputs": [],
   "source": []
  },
  {
   "cell_type": "code",
   "execution_count": null,
   "metadata": {},
   "outputs": [],
   "source": []
  }
 ],
 "metadata": {
  "kernelspec": {
   "display_name": "Python 3",
   "language": "python",
   "name": "python3"
  },
  "language_info": {
   "codemirror_mode": {
    "name": "ipython",
    "version": 3
   },
   "file_extension": ".py",
   "mimetype": "text/x-python",
   "name": "python",
   "nbconvert_exporter": "python",
   "pygments_lexer": "ipython3",
   "version": "3.12.4"
  }
 },
 "nbformat": 4,
 "nbformat_minor": 2
}
