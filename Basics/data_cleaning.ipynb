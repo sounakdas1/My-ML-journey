{
 "cells": [
  {
   "cell_type": "code",
   "execution_count": 1,
   "metadata": {},
   "outputs": [
    {
     "name": "stdout",
     "output_type": "stream",
     "text": [
      "    Age   Salary           City  Experience\n",
      "0  25.0  50000.0       New York         2.0\n",
      "1   NaN  60000.0    Los Angeles         5.0\n",
      "2  30.0      NaN       New York         NaN\n",
      "3  35.0  80000.0            NaN        10.0\n",
      "4   NaN  90000.0  San Francisco         8.0\n"
     ]
    }
   ],
   "source": [
    "import pandas as pd\n",
    "import numpy as np\n",
    "\n",
    "data = {\n",
    "    'Age': [25, np.nan, 30, 35, np.nan],\n",
    "    'Salary': [50000, 60000, np.nan, 80000, 90000],\n",
    "    'City': ['New York', 'Los Angeles', 'New York', np.nan, 'San Francisco'],\n",
    "    'Experience': [2, 5, np.nan, 10, 8]\n",
    "}\n",
    "\n",
    "df = pd.DataFrame(data)\n",
    "\n",
    "print(df)\n"
   ]
  },
  {
   "cell_type": "markdown",
   "metadata": {},
   "source": [
    "## Using Scikit learn"
   ]
  },
  {
   "cell_type": "code",
   "execution_count": 13,
   "metadata": {},
   "outputs": [
    {
     "name": "stdout",
     "output_type": "stream",
     "text": [
      "    Age   Salary           City  Experience\n",
      "0  25.0  50000.0       New York        2.00\n",
      "1  30.0  60000.0    Los Angeles        5.00\n",
      "2  30.0  70000.0       New York        6.25\n",
      "3  35.0  80000.0       New York       10.00\n",
      "4  30.0  90000.0  San Francisco        8.00\n"
     ]
    }
   ],
   "source": [
    "from sklearn.impute import SimpleImputer\n",
    "imputer = SimpleImputer(missing_values=np.nan, strategy='mean')\n",
    "numerical_columns = df.select_dtypes(include='number').columns\n",
    "char_columns = df.select_dtypes(exclude='number').columns\n",
    "\n",
    "\n",
    "df[numerical_columns] = imputer.fit_transform(df[numerical_columns])\n",
    "categorical_imputer = SimpleImputer(strategy='most_frequent')\n",
    "df[char_columns] = categorical_imputer.fit_transform(df[char_columns])\n",
    "print(df)"
   ]
  },
  {
   "cell_type": "code",
   "execution_count": null,
   "metadata": {},
   "outputs": [],
   "source": []
  },
  {
   "cell_type": "code",
   "execution_count": null,
   "metadata": {},
   "outputs": [],
   "source": []
  },
  {
   "cell_type": "code",
   "execution_count": null,
   "metadata": {},
   "outputs": [],
   "source": []
  }
 ],
 "metadata": {
  "kernelspec": {
   "display_name": "Python 3",
   "language": "python",
   "name": "python3"
  },
  "language_info": {
   "codemirror_mode": {
    "name": "ipython",
    "version": 3
   },
   "file_extension": ".py",
   "mimetype": "text/x-python",
   "name": "python",
   "nbconvert_exporter": "python",
   "pygments_lexer": "ipython3",
   "version": "3.12.4"
  }
 },
 "nbformat": 4,
 "nbformat_minor": 2
}
