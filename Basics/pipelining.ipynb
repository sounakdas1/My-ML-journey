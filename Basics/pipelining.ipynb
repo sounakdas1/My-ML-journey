{
 "cells": [
  {
   "cell_type": "code",
   "execution_count": 3,
   "metadata": {},
   "outputs": [
    {
     "name": "stdout",
     "output_type": "stream",
     "text": [
      "[[-1.5        -1.28142321]\n",
      " [ 0.         -0.52764485]\n",
      " [-0.5         0.22613351]\n",
      " [ 0.5        -0.15075567]\n",
      " [ 1.5         1.73369023]]\n"
     ]
    }
   ],
   "source": [
    "import pandas as pd\n",
    "from sklearn.pipeline import Pipeline\n",
    "from sklearn.preprocessing import StandardScaler\n",
    "from sklearn.impute import SimpleImputer\n",
    "\n",
    "data = {\n",
    "    'Age': [25, None, 30, 35, 40],\n",
    "    'Salary': [50000, 60000, 70000, None, 90000],\n",
    "}\n",
    "df = pd.DataFrame(data)\n",
    "\n",
    "my_pipeline = Pipeline(\n",
    "    [\n",
    "        ('imputer',SimpleImputer(strategy=\"median\")),\n",
    "        ('std_scaling',StandardScaler())\n",
    "    ]\n",
    ")\n",
    "print(my_pipeline.fit_transform(df))"
   ]
  },
  {
   "cell_type": "code",
   "execution_count": null,
   "metadata": {},
   "outputs": [],
   "source": []
  }
 ],
 "metadata": {
  "kernelspec": {
   "display_name": "Python 3",
   "language": "python",
   "name": "python3"
  },
  "language_info": {
   "codemirror_mode": {
    "name": "ipython",
    "version": 3
   },
   "file_extension": ".py",
   "mimetype": "text/x-python",
   "name": "python",
   "nbconvert_exporter": "python",
   "pygments_lexer": "ipython3",
   "version": "3.12.4"
  }
 },
 "nbformat": 4,
 "nbformat_minor": 2
}
